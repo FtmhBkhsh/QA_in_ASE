{
 "cells": [
  {
   "cell_type": "code",
   "execution_count": 3,
   "metadata": {},
   "outputs": [],
   "source": [
    "import nltk\n",
    "import os \n",
    "from nltk.stem.wordnet import WordNetLemmatizer \n",
    "import matplotlib\n",
    "import matplotlib.pyplot as plt\n",
    "import pandas as pd\n",
    "import squarify\n",
    "import numpy as np\n",
    "\n",
    "lem = WordNetLemmatizer()"
   ]
  },
  {
   "cell_type": "code",
   "execution_count": 56,
   "metadata": {},
   "outputs": [
    {
     "name": "stdout",
     "output_type": "stream",
     "text": [
      "\n",
      " Line 8 length: 152\n",
      "    Vague(other) smell in word 20 :  ('normal', 'JJ')\n",
      "\n",
      " Line 11 length: 90\n",
      "    Pronouns smell in word 13 :  ('them', 'PRP')\n",
      "\n",
      " Line 12 length: 114\n",
      "    Pronouns smell in word 13 :  ('them', 'PRP')\n",
      "\n",
      " Line 13 length: 119\n",
      "    Pronouns smell in word 13 :  ('them', 'PRP')\n",
      "\n",
      " Line 20 length: 98\n",
      "    WH_Pronouns smell in word 9 :  ('what', 'WP')\n",
      "\n",
      " Line 21 length: 61\n",
      "    Vague(other) smell in word 9 :  ('large', 'JJ')\n",
      "\n",
      " Line 23 length: 81\n",
      "    Pronouns smell in word 16 :  ('its', 'PRP$')\n",
      "\n",
      " Line 24 length: 86\n",
      "    Pronouns smell in word 18 :  ('their', 'PRP$')\n",
      "\n",
      " Line 28 length: 71\n",
      "    WH_Pronouns smell in word 9 :  ('what', 'WP')\n",
      "\n",
      " Line 29 length: 78\n",
      "    Uncertain smell in word 11 :  ('might', 'MD')\n",
      "\n",
      " Line 29 length: 78\n",
      "    Vague(other) smell in word 11 :  ('might', 'MD')\n",
      "\n",
      " Line 30 length: 69\n",
      "    Comparative smell in word 11 :  ('older', 'JJR')\n",
      "\n",
      " Line 35 length: 95\n",
      "    Vague(other) smell in word 15 :  ('support', 'VB')\n",
      "\n",
      " Line 46 length: 79\n",
      "    Vague(other) smell in word 12 :  ('rather', 'RB')\n",
      "\n",
      " Line 48 length: 106\n",
      "    Comparative smell in word 15 :  ('more', 'JJR')\n",
      "\n",
      " Line 48 length: 106\n",
      "    Comparative smell in word 22 :  ('more', 'JJR')\n",
      "\n",
      " Line 56 length: 108\n",
      "    Comparative smell in word 13 :  ('older', 'JJR')\n",
      "\n",
      " Line 60 length: 181\n",
      "    Pronouns smell in word 27 :  ('me', 'PRP')\n",
      "\n",
      " Line 60 length: 181\n",
      "    Pronouns smell in word 34 :  ('they', 'PRP')\n",
      "\n",
      " Line 62 length: 106\n",
      "    Pronouns smell in word 16 :  ('it', 'PRP')\n",
      "\n",
      " Line 62 length: 106\n",
      "    Vague(other) smell in word 19 :  ('rather', 'RB')\n",
      "\n",
      " Line 64 length: 137\n",
      "    WH_Pronouns smell in word 27 :  ('what', 'WP')\n",
      "\n",
      " Line 68 length: 142\n",
      "    Pronouns smell in word 18 :  ('them', 'PRP')\n",
      "\n",
      " Line 70 length: 150\n",
      "    Vague(other) smell in word 10 :  ('support', 'NN')\n",
      "\n",
      " Line 71 length: 138\n",
      "    Pronouns smell in word 21 :  ('we', 'PRP')\n",
      "\n",
      " Line 72 length: 162\n",
      "    Negative smell in word 28 :  ('not', 'RB')\n",
      "\n",
      " Line 72 length: 162\n",
      "    Superlative smell in word 30 :  (\"'lost\", 'JJS')\n",
      "\n",
      " Line 72 length: 162\n",
      "    Vague(other) smell in word 11 :  ('support', 'VB')\n",
      "\n",
      " Line 73 length: 178\n",
      "    Pronouns smell in word 17 :  ('their', 'PRP$')\n",
      "\n",
      " Line 77 length: 195\n",
      "    Pronouns smell in word 28 :  ('it', 'PRP')\n",
      "\n",
      " Line 77 length: 195\n",
      "    Pronouns smell in word 35 :  ('it', 'PRP')\n",
      "\n",
      " Line 78 length: 182\n",
      "    Pronouns smell in word 31 :  ('we', 'PRP')\n",
      "\n",
      " Line 83 length: 123\n",
      "    Superlative smell in word 10 :  ('least', 'JJS')\n",
      "\n",
      " Line 83 length: 123\n",
      "    Vague(other) smell in word 11 :  ('some', 'DT')\n",
      "\n",
      " Line 85 length: 307\n",
      "    Negative smell in word 36 :  ('not', 'RB')\n",
      "\n",
      " Line 86 length: 128\n",
      "    Negative smell in word 18 :  ('not', 'RB')\n",
      "\n",
      " Line 93 length: 103\n",
      "    Vague(other) smell in word 18 :  ('minimal', 'JJ')\n",
      "\n",
      " Line 94 length: 211\n",
      "    Vague(other) smell in word 18 :  ('some', 'DT')\n",
      "\n",
      " Line 99 length: 150\n",
      "    Comparative smell in word 25 :  ('more', 'RBR')\n",
      "\n",
      "***************\n",
      "\n",
      "Number of negative smells: 3\n",
      "Number of Comparative smells: 5\n",
      "Number of Superlative smells: 2\n",
      "Number of Wh_Pronouns smells: 3\n",
      "Number of Pronouns smells: 14\n",
      "Number of Uncertainty smells: 1\n",
      "Number of other vague smells: 11\n"
     ]
    }
   ],
   "source": [
    "O_doc = open(\"g18-neurohub.txt\" , \"r\", encoding='utf-8')    \n",
    "Lines_doc =O_doc.readlines()\n",
    "O_doc.close()\n",
    "\n",
    "# define variables\n",
    "countLine = 0\n",
    "SuperlativeNumber=0\n",
    "NegativeNumber=0\n",
    "ComparativeNumber=0\n",
    "Wh_PronounsNumber=0\n",
    "PronounsNumber=0\n",
    "UncertaintyNumber=0\n",
    "OtherNumber=0\n",
    "\n",
    "my_values=[]\n",
    "my_lables=[]\n",
    "numberOfTotalSmells = []\n",
    "numberOfNegativeSmell = []\n",
    "numberOfComparativeSmell= []\n",
    "numberOfSuperlativeSmell=[]\n",
    "numberOfWH_PronounsSmell=[]\n",
    "numberOfUncertaintySmell=[]\n",
    "numberOfotherSmell=[]\n",
    "numberOfPronounsSmell=[]\n",
    "\n",
    "#read every line of doc\n",
    "for line in Lines_doc:\n",
    "    smell_number=0\n",
    "    countLine=countLine+1 \n",
    "    my_values.append(len(line))\n",
    "    my_lables.append('R'+str(countLine))\n",
    "    #print(\"\\nIn Line: \" + str(countLine))\n",
    "    #print(line)\n",
    "\n",
    "    Tagged_words=Pos_taging(line)\n",
    "    \n",
    "    nNum=NegativeSmell(Tagged_words)\n",
    "    smell_number= smell_number+nNum \n",
    "    NegativeNumber=NegativeNumber+nNum\n",
    "    numberOfNegativeSmell.append(nNum)\n",
    "    \n",
    "    \n",
    "    cNum=ComparativeSmell(Tagged_words)\n",
    "    smell_number= smell_number+cNum\n",
    "    ComparativeNumber=ComparativeNumber+cNum\n",
    "    numberOfComparativeSmell.append(cNum)\n",
    "    \n",
    "    \n",
    "    sNum=SuperlativeSmell(Tagged_words)\n",
    "    smell_number= smell_number+sNum\n",
    "    SuperlativeNumber= SuperlativeNumber+sNum\n",
    "    numberOfSuperlativeSmell.append(sNum)\n",
    "    \n",
    "\n",
    "    wh_pNUm=WH_PronounsSmell(Tagged_words)\n",
    "    smell_number= smell_number+wh_pNUm\n",
    "    Wh_PronounsNumber=Wh_PronounsNumber+wh_pNUm\n",
    "    numberOfWH_PronounsSmell.append(wh_pNUm)\n",
    "    \n",
    "    \n",
    "    pNum=PronounsSmell(Tagged_words)\n",
    "    smell_number= smell_number+pNum\n",
    "    PronounsNumber=PronounsNumber+pNum\n",
    "    numberOfPronounsSmell.append(pNum)\n",
    "    \n",
    "    uNum=UncertaintySmell(Tagged_words)\n",
    "    smell_number= smell_number+uNum\n",
    "    UncertaintyNumber=UncertaintyNumber+uNum\n",
    "    numberOfUncertaintySmell.append(uNum)\n",
    "    \n",
    "    oNum=otherSmell(Tagged_words)\n",
    "    smell_number= smell_number+oNum\n",
    "    OtherNumber=OtherNumber+oNum\n",
    "    numberOfotherSmell.append(oNum)\n",
    "    numberOfTotalSmells.append(smell_number)\n",
    "    \n",
    "    \n",
    "    \n",
    "    #kk(Tagged_words)\n",
    "    \n",
    "\n",
    "print(\"\\n***************\")\n",
    "print(\"\\nNumber of negative smells: \" + str(NegativeNumber))\n",
    "print(\"Number of Comparative smells: \" + str(ComparativeNumber))\n",
    "print(\"Number of Superlative smells: \" + str(SuperlativeNumber))\n",
    "print(\"Number of Wh_Pronouns smells: \" + str(Wh_PronounsNumber))\n",
    "print(\"Number of Pronouns smells: \" + str(PronounsNumber))\n",
    "print(\"Number of Uncertainty smells: \" + str(UncertaintyNumber))\n",
    "print(\"Number of other vague smells: \" + str(OtherNumber))\n",
    "\n"
   ]
  },
  {
   "cell_type": "code",
   "execution_count": 6,
   "metadata": {},
   "outputs": [],
   "source": [
    "def Pos_taging(line):\n",
    " tokens = nltk.word_tokenize(line)\n",
    " #print(tokens)\n",
    " tagged = nltk.pos_tag(tokens)\n",
    "\n",
    " #print(tagged)\n",
    " return tagged"
   ]
  },
  {
   "cell_type": "code",
   "execution_count": 43,
   "metadata": {},
   "outputs": [],
   "source": [
    "def UncertaintySmell(taggedWords):\n",
    "    UncertainDic={\"may\",\"sould\",\"might\",\"could\"}\n",
    "\n",
    "    countWords=0\n",
    "    number=0\n",
    "    \n",
    "    for b in taggedWords:\n",
    "        countWords=countWords+1\n",
    "        if b[0] in UncertainDic:\n",
    "            print(\"\\n Line \" + str(countLine) +\" length: \"+ str(len(line)))\n",
    "            print(\"    Uncertain smell in word \"+str(countWords)+\" :  \"+str(b))\n",
    "            number=number+1\n",
    "    return number"
   ]
  },
  {
   "cell_type": "code",
   "execution_count": 7,
   "metadata": {},
   "outputs": [],
   "source": [
    "def NegativeSmell(taggedWords):\n",
    "    negativeDic={\"never\",\"no\",\"nothing\",\"nowhere\",\"noone\",\"none\",\"not\",\"n't\"}\n",
    "\n",
    "    countWords=0\n",
    "    number=0\n",
    "    \n",
    "    for i in taggedWords:\n",
    "        countWords=countWords+1\n",
    "        #if i[1]=='RB':\n",
    "            #print(\"    Negative word \"+str(countWords)+\" :  \"+str(i))\n",
    "        if i[0] in negativeDic:\n",
    "            print(\"\\n Line \" + str(countLine) +\" length: \"+ str(len(line)))\n",
    "            print(\"    Negative smell in word \"+str(countWords)+\" :  \"+str(i))\n",
    "            number=number+1\n",
    "    return number"
   ]
  },
  {
   "cell_type": "code",
   "execution_count": 8,
   "metadata": {},
   "outputs": [],
   "source": [
    "def ComparativeSmell(taggedWords):\n",
    "    countWords=0\n",
    "    number=0\n",
    "    for j in taggedWords:\n",
    "        countWords=countWords+1\n",
    "        if (j[1] =='RBR' or j[1]=='JJR'):\n",
    "            print(\"\\n Line \" + str(countLine)+\" length: \"+ str(len(line)))\n",
    "            print(\"    Comparative smell in word \"+str(countWords)+\" :  \"+str(j))\n",
    "            number= number+1\n",
    "    return number"
   ]
  },
  {
   "cell_type": "code",
   "execution_count": 9,
   "metadata": {},
   "outputs": [],
   "source": [
    "def SuperlativeSmell(taggedWords):\n",
    "    countWords=0\n",
    "    number=0\n",
    "    for k in taggedWords:\n",
    "        countWords=countWords+1\n",
    "        if (k[1] =='RBS' or k[1]=='JJS'):\n",
    "            print(\"\\n Line \" + str(countLine)+\" length: \"+ str(len(line)))\n",
    "            print(\"    Superlative smell in word \"+str(countWords)+\" :  \"+str(k))\n",
    "            number= number+1\n",
    "    return number"
   ]
  },
  {
   "cell_type": "code",
   "execution_count": 10,
   "metadata": {},
   "outputs": [],
   "source": [
    "def WH_PronounsSmell(taggedWords):\n",
    "    countWords=0\n",
    "    number=0\n",
    "    for l in taggedWords:\n",
    "        countWords=countWords+1\n",
    "        if (l[1]=='WP' or l[1]=='WP$'):\n",
    "            #l[1] =='WDT' or\n",
    "            print(\"\\n Line \" + str(countLine)+\" length: \"+ str(len(line)))\n",
    "            print(\"    WH_Pronouns smell in word \"+str(countWords)+\" :  \"+str(l))\n",
    "            number= number+1\n",
    "    return number"
   ]
  },
  {
   "cell_type": "code",
   "execution_count": 11,
   "metadata": {},
   "outputs": [],
   "source": [
    "def PronounsSmell(taggedWords):\n",
    "    countWords=0\n",
    "    number=0\n",
    "    for m in taggedWords:\n",
    "        countWords=countWords+1\n",
    "        if ((m[1] =='PRP' or m[1]=='PRP$')and (m[0]!='I' and m[0]!='my')):\n",
    "            print(\"\\n Line \" + str(countLine)+\" length: \"+ str(len(line)))\n",
    "            print(\"    Pronouns smell in word \"+str(countWords)+\" :  \"+str(m))\n",
    "            number= number+1\n",
    "    return number"
   ]
  },
  {
   "cell_type": "code",
   "execution_count": 13,
   "metadata": {},
   "outputs": [],
   "source": [
    "def otherSmell(taggedWords):\n",
    "    number=0\n",
    "    countWords=0\n",
    "    vagueList={'a bit','almost','as much as','basically','fairly','in a sense','likely','many','may','might','moderately','most','often','probabely','quite','rather','relatively','reasonably','seems','some','somehow','somewhat','usually',\n",
    "               'average','easy','efficient','etcetera','fast','flexible','improved','intuitive','large','maximize','minimize','normal','often','optimize','optionally','preferably','probably','rapid','reasonable','robust','simple','state-of-the-art','sufficient','support','friendly','usual',\n",
    "              'effective','significant','minimal','maximal','too','maximum','minimum','maximise','minimise'}\n",
    "    for n in taggedWords:\n",
    "        lemWord=lem.lemmatize(n[0])\n",
    "        countWords=countWords+1\n",
    "        if lemWord in vagueList:\n",
    "            print(\"\\n Line \" + str(countLine)+\" length: \"+ str(len(line)))\n",
    "            print(\"    Vague(other) smell in word \"+str(countWords)+\" :  \"+str(n))\n",
    "            number= number+1\n",
    "    return number"
   ]
  },
  {
   "cell_type": "code",
   "execution_count": 44,
   "metadata": {},
   "outputs": [],
   "source": [
    "def kk(taggedWords):\n",
    "    countWords=0\n",
    "    number=0\n",
    "    for m in taggedWords:\n",
    "        countWords=countWords+1\n",
    "        if (m[1] =='JJ'):\n",
    "            print(\"\\n Line \" + str(countLine))\n",
    "            print(\"   jj smell in word \"+str(countWords)+\" :  \"+str(m))\n",
    "            number= number+1\n",
    "    return number"
   ]
  },
  {
   "cell_type": "code",
   "execution_count": 45,
   "metadata": {},
   "outputs": [
    {
     "data": {
      "image/png": "[encoded data removed]",
      "text/plain": [
       "<Figure size 1152x324 with 1 Axes>"
      ]
     },
     "metadata": {},
     "output_type": "display_data"
    }
   ],
   "source": [
    "cmap = matplotlib.cm.Blues\n",
    "mini=min(numberOfTotalSmells)\n",
    "maxi=max(numberOfTotalSmells)\n",
    "norm = matplotlib.colors.Normalize(vmin=mini, vmax=maxi)\n",
    "colors = [matplotlib.cm.Blues(norm(value)) for value in numberOfTotalSmells]\n",
    "fig = plt.gcf()\n",
    "ax = fig.add_subplot()\n",
    "fig.set_size_inches(16, 4.5)\n",
    "squarify.plot(label=my_lables,sizes=my_values, color = colors, alpha=.6)\n",
    "plt.title(\"Total Smell's tree map\",fontsize=23,fontweight=\"bold\")\n",
    "plt.axis('off')\n",
    "plt.show()\n"
   ]
  },
  {
   "cell_type": "code",
   "execution_count": 46,
   "metadata": {},
   "outputs": [
    {
     "data": {
      "text/plain": [
       "{'whiskers': [<matplotlib.lines.Line2D at 0x1b38575c3c8>,\n",
       "  <matplotlib.lines.Line2D at 0x1b38575cb88>],\n",
       " 'caps': [<matplotlib.lines.Line2D at 0x1b38575cc88>,\n",
       "  <matplotlib.lines.Line2D at 0x1b38575eb08>],\n",
       " 'boxes': [<matplotlib.lines.Line2D at 0x1b3854c2f48>],\n",
       " 'medians': [<matplotlib.lines.Line2D at 0x1b38575ec08>],\n",
       " 'fliers': [<matplotlib.lines.Line2D at 0x1b3855b3b48>],\n",
       " 'means': []}"
      ]
     },
     "execution_count": 46,
     "metadata": {},
     "output_type": "execute_result"
    },
    {
     "data": {
      "image/png": "[encoded data removed]",
      "text/plain": [
       "<Figure size 432x432 with 1 Axes>"
      ]
     },
     "metadata": {},
     "output_type": "display_data"
    }
   ],
   "source": [
    "#artifact's total size \n",
    "fig = plt.figure(1, figsize=(6, 6))\n",
    "ax = fig.add_subplot(111)\n",
    "ax.set_xticklabels(['artifacts size'])\n",
    "plt.boxplot(my_values)"
   ]
  },
  {
   "cell_type": "code",
   "execution_count": 47,
   "metadata": {},
   "outputs": [
    {
     "data": {
      "text/plain": [
       "{'whiskers': [<matplotlib.lines.Line2D at 0x1b38560d348>,\n",
       "  <matplotlib.lines.Line2D at 0x1b38560aa08>],\n",
       " 'caps': [<matplotlib.lines.Line2D at 0x1b385619ac8>,\n",
       "  <matplotlib.lines.Line2D at 0x1b385619bc8>],\n",
       " 'boxes': [<matplotlib.lines.Line2D at 0x1b3fdd367c8>],\n",
       " 'medians': [<matplotlib.lines.Line2D at 0x1b38561fa48>],\n",
       " 'fliers': [<matplotlib.lines.Line2D at 0x1b38561fb48>],\n",
       " 'means': []}"
      ]
     },
     "execution_count": 47,
     "metadata": {},
     "output_type": "execute_result"
    },
    {
     "data": {
      "image/png": "[encoded data removed]",
      "text/plain": [
       "<Figure size 432x432 with 1 Axes>"
      ]
     },
     "metadata": {},
     "output_type": "display_data"
    }
   ],
   "source": [
    "#smell's total size \n",
    "fig = plt.figure(1, figsize=(6, 6))\n",
    "ax = fig.add_subplot(111)\n",
    "ax.set_xticklabels(['Total Smells'])\n",
    "plt.boxplot(numberOfTotalSmells)"
   ]
  },
  {
   "cell_type": "code",
   "execution_count": 48,
   "metadata": {},
   "outputs": [
    {
     "data": {
      "text/plain": [
       "[Text(1, 0, 'Total Smells'),\n",
       " Text(2, 0, 'Negative Smells'),\n",
       " Text(3, 0, 'Comparative Smells'),\n",
       " Text(4, 0, 'Superlative Smells'),\n",
       " Text(5, 0, 'WH_Pronouns Smell'),\n",
       " Text(6, 0, 'Pronouns Smells'),\n",
       " Text(7, 0, 'other Smells')]"
      ]
     },
     "execution_count": 48,
     "metadata": {},
     "output_type": "execute_result"
    },
    {
     "data": {
      "image/png": "[encoded data removed]",
      "text/plain": [
       "<Figure size 1296x432 with 1 Axes>"
      ]
     },
     "metadata": {},
     "output_type": "display_data"
    }
   ],
   "source": [
    "data = [numberOfTotalSmells,numberOfNegativeSmell,numberOfComparativeSmell,\n",
    "       numberOfSuperlativeSmell,numberOfWH_PronounsSmell,numberOfPronounsSmell,numberOfotherSmell]\n",
    "# Create a figure instance\n",
    "fig = plt.figure(1, figsize=(18, 6))\n",
    "\n",
    "# Create an axes instance\n",
    "ax = fig.add_subplot(111)\n",
    "\n",
    "# Create the boxplot\n",
    "bp = ax.boxplot(data)\n",
    "\n",
    "# Save the figure\n",
    "fig.savefig('fig1.png', bbox_inches='tight')\n",
    "\n",
    "\n",
    "\n",
    "\n",
    "\n",
    "\n",
    "ax.set_xticklabels(['Total Smells', 'Negative Smells', 'Comparative Smells',\n",
    "                    'Superlative Smells','WH_Pronouns Smell', 'Pronouns Smells', 'other Smells'])\n"
   ]
  },
  {
   "cell_type": "code",
   "execution_count": 49,
   "metadata": {},
   "outputs": [
    {
     "data": {
      "text/plain": [
       "[<matplotlib.lines.Line2D at 0x1b3869d8d48>]"
      ]
     },
     "execution_count": 49,
     "metadata": {},
     "output_type": "execute_result"
    },
    {
     "data": {
      "image/png": "[encoded data removed]",
      "text/plain": [
       "<Figure size 432x288 with 1 Axes>"
      ]
     },
     "metadata": {},
     "output_type": "display_data"
    }
   ],
   "source": [
    "%matplotlib inline\n",
    "plt.style.use('seaborn-whitegrid')\n",
    "plt.plot(my_values, numberOfTotalSmells, 's', color='orange')\n"
   ]
  },
  {
   "cell_type": "code",
   "execution_count": 50,
   "metadata": {},
   "outputs": [
    {
     "data": {
      "image/png": "[encoded data removed]",
      "text/plain": [
       "<Figure size 432x288 with 1 Axes>"
      ]
     },
     "metadata": {},
     "output_type": "display_data"
    }
   ],
   "source": [
    "data = [my_values, numberOfTotalSmells]\n",
    "\n",
    "#calculate 2d indicators\n",
    "def indic(data):\n",
    "    #alternatively you can calulate any other indicators\n",
    "    max = np.max(data, axis=1)\n",
    "    min = np.min(data, axis=1)\n",
    "    return max, min\n",
    "\n",
    "x,y = indic(data)\n",
    "plt.scatter(my_values, numberOfTotalSmells, marker='x')\n",
    "plt.show()\n"
   ]
  },
  {
   "cell_type": "code",
   "execution_count": 51,
   "metadata": {},
   "outputs": [
    {
     "data": {
      "image/png": "[encoded data removed]",
      "text/plain": [
       "<Figure size 432x288 with 1 Axes>"
      ]
     },
     "metadata": {},
     "output_type": "display_data"
    }
   ],
   "source": [
    "from numpy.polynomial.polynomial import polyfit\n",
    "x = np.array(my_values)\n",
    "\n",
    "y = np.array(numberOfTotalSmells)\n",
    "b, m = polyfit(x, y, 1)\n",
    "\n",
    "plt.plot(x, y, '.')\n",
    "plt.plot(x, b + m * x, '-')\n",
    "\n",
    "plt.title(\"Nemidoonam\")\n",
    "plt.xlabel(\"Number of Words in Artifact\")\n",
    "plt.ylabel(\"Number of Findings in Artifact\")\n",
    "plt.show()"
   ]
  },
  {
   "cell_type": "code",
   "execution_count": 52,
   "metadata": {},
   "outputs": [
    {
     "data": {
      "text/plain": [
       "[<matplotlib.lines.Line2D at 0x1b386935488>]"
      ]
     },
     "execution_count": 52,
     "metadata": {},
     "output_type": "execute_result"
    },
    {
     "data": {
      "image/png": "[encoded data removed]",
      "text/plain": [
       "<Figure size 432x288 with 1 Axes>"
      ]
     },
     "metadata": {},
     "output_type": "display_data"
    }
   ],
   "source": [
    "x = np.array(my_values)\n",
    "\n",
    "y = np.array(numberOfTotalSmells)\n",
    "\n",
    "plt.plot(x, y, 'x')\n",
    "\n",
    "\n",
    "\n",
    "m, b = np.polyfit(x, y, 1)\n",
    "\n",
    "\n",
    "\n",
    "\n",
    "plt.plot(x, m*x + b)\n"
   ]
  }
 ],
 "metadata": {
  "kernelspec": {
   "display_name": "Python 3",
   "language": "python",
   "name": "python3"
  },
  "language_info": {
   "codemirror_mode": {
    "name": "ipython",
    "version": 3
   },
   "file_extension": ".py",
   "mimetype": "text/x-python",
   "name": "python",
   "nbconvert_exporter": "python",
   "pygments_lexer": "ipython3",
   "version": "3.7.6"
  }
 },
 "nbformat": 4,
 "nbformat_minor": 4
}
